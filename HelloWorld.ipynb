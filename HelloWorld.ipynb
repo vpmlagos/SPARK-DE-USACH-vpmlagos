{
 "cells": [
  {
   "cell_type": "code",
   "execution_count": null,
   "metadata": {},
   "outputs": [],
   "source": [
    "!wget -O Don-Quijote.txt https://www.gutenberg.org/cache/epub/2000/pg2000.txt"
   ]
  },
  {
   "cell_type": "code",
   "execution_count": null,
   "metadata": {},
   "outputs": [],
   "source": [
    "import re\n",
    "\n",
    "word_count_dict = {}\n",
    "document = open('Don-Quijote.txt', 'r')\n",
    "for line in document:\n",
    "    line_clean = re.sub(r'^\\W+|\\W+$', '', line)\n",
    "    words_in_line = re.split(r'\\W+', line_clean)\n",
    "    for word in words_in_line:\n",
    "      word = word.lower()\n",
    "      word_count_dict[word] = word_count_dict.get(word, 0) + 1\n",
    "print(word_count_dict)\n",
    "with open('word_count_dict.txt','w') as file:\n",
    "  file.write(str(word_count_dict))"
   ]
  },
  {
   "cell_type": "code",
   "execution_count": null,
   "metadata": {},
   "outputs": [],
   "source": [
    "import re\n",
    "\n",
    "print_txt = ''\n",
    "document = open('Don-Quijote.txt', 'r')\n",
    "for line in document:\n",
    "    line_clean = re.sub(r'^\\W+|\\W+$', '', line)\n",
    "    words_in_line = re.split(r'\\W+', line_clean)\n",
    "    for word in words_in_line:\n",
    "      word = word.lower()\n",
    "      print_txt = print_txt + word + '\\t' + '1' + '\\n'\n",
    "#print(print_txt)\n",
    "with open('mapper.txt','w') as file:\n",
    "  file.write(print_txt)"
   ]
  },
  {
   "cell_type": "code",
   "execution_count": null,
   "metadata": {},
   "outputs": [],
   "source": [
    "!sort mapper.txt > mapper_sorted.txt"
   ]
  },
  {
   "cell_type": "code",
   "execution_count": null,
   "metadata": {},
   "outputs": [],
   "source": [
    "mapper = open('mapper_sorted.txt', 'r')\n",
    "total_word_count = 0\n",
    "print_txt = ''\n",
    "previous_counter = None\n",
    "\n",
    "\n",
    "for line in mapper:\n",
    "  word, count = line.split('\\t')\n",
    "  if word != previous_counter:\n",
    "    if previous_counter is not None:\n",
    "      print_txt = print_txt + previous_counter + '\\t' + str(total_word_count) + '\\n'\n",
    "    previous_counter = word\n",
    "    total_word_count = 0\n",
    "  total_word_count = total_word_count + int(count)\n",
    "with open('reducer.txt','w') as file:\n",
    "  file.write(print_txt)"
   ]
  }
 ],
 "metadata": {
  "language_info": {
   "name": "python"
  }
 },
 "nbformat": 4,
 "nbformat_minor": 2
}
